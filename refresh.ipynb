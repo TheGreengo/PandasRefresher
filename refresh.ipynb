{
 "cells": [
  {
   "attachments": {},
   "cell_type": "markdown",
   "metadata": {},
   "source": [
    "# Pandas Refresher"
   ]
  },
  {
   "cell_type": "code",
   "execution_count": 24,
   "metadata": {},
   "outputs": [],
   "source": [
    "import pandas as pd\n",
    "df = pd.read_csv(\"example.csv\")"
   ]
  },
  {
   "cell_type": "code",
   "execution_count": 27,
   "metadata": {},
   "outputs": [
    {
     "name": "stdout",
     "output_type": "stream",
     "text": [
      "       name   age   height   weight  gender\n",
      "0      Alex    20       72      180       m\n",
      "1     Steve    23       70      170       m\n",
      "2      John    40       69      172       m\n",
      "3      Jane    32       63      125       f\n",
      "4   Michael    50       74      205       m\n",
      "5     Paris    22       65      130       f\n",
      "6   Janette    57       70      180       f\n",
      "7  McKenzie    45       67      140       f\n",
      "8    George    65       60      120       m\n",
      "9    Carrie    38       68      129       f\n",
      "Alex\n",
      "   name   age   height   weight  gender\n",
      "0  Alex    20       72      180       m\n"
     ]
    }
   ],
   "source": [
    "print(df)\n",
    "print(df.iloc[0,0])\n",
    "print(df.loc[df[\"name\"] == \"Alex\"])"
   ]
  }
 ],
 "metadata": {
  "kernelspec": {
   "display_name": "Python 3",
   "language": "python",
   "name": "python3"
  },
  "language_info": {
   "codemirror_mode": {
    "name": "ipython",
    "version": 3
   },
   "file_extension": ".py",
   "mimetype": "text/x-python",
   "name": "python",
   "nbconvert_exporter": "python",
   "pygments_lexer": "ipython3",
   "version": "3.11.5"
  },
  "orig_nbformat": 4
 },
 "nbformat": 4,
 "nbformat_minor": 2
}
